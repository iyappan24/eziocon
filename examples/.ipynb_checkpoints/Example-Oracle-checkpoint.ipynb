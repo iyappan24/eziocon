{
 "cells": [
  {
   "cell_type": "markdown",
   "metadata": {},
   "source": [
    "## Eziocon \n",
    "\n",
    "A Software Development Kit for doing simple operations using python in built objects.\n",
    "\n",
    "\n",
    "\n",
    "### Examples : Oracle Data Base \n"
   ]
  },
  {
   "cell_type": "markdown",
   "metadata": {},
   "source": [
    "<br>\n",
    "<br>\n",
    "**Topics Covered : **\n",
    "\n",
    "1. How to manipulate your data source to use the SDK effectively \n",
    "2. Story line Walkthrough using Sample Data created \n",
    "3. Differences between Oracle SDK and MySQL SDK \n",
    "4. Different examples to use the following functions :\n",
    "    5. Insert \n",
    "    6. Count\n",
    "    5. Update\n",
    "    6. Fetchone\n",
    "    7. Fetch many"
   ]
  },
  {
   "cell_type": "markdown",
   "metadata": {},
   "source": [
    "###  Importing the Libraries "
   ]
  },
  {
   "cell_type": "code",
   "execution_count": 1,
   "metadata": {
    "collapsed": true
   },
   "outputs": [],
   "source": [
    "#if you are using oracle Database use the following SDK \n",
    "from eziocon.oracle.sdk import oracle"
   ]
  },
  {
   "cell_type": "markdown",
   "metadata": {},
   "source": [
    "<br>\n",
    "#### Initialising the credentials for Oracle Database "
   ]
  },
  {
   "cell_type": "code",
   "execution_count": 2,
   "metadata": {
    "collapsed": true
   },
   "outputs": [],
   "source": [
    "host = 'your database host '\n",
    "pwd = 'your database password'\n",
    "username = 'your database username'\n",
    "port = 'your database port'\n",
    "sid = 'your Sid'"
   ]
  },
  {
   "cell_type": "markdown",
   "metadata": {},
   "source": [
    "#### Intialising Object for Oracle\n",
    "\n",
    "1. use **setConnect** function to pass the credentials. \n",
    "2. If the connection is successful to the database the function would set object variable **connect_check** as **True**. \n",
    "3. Without the connect_check being set as true the user will not be able to use other functions of the SDK.\n",
    "4. This function is common for all the SDKs of the databses ( i.e. Oracle and MySQL)"
   ]
  },
  {
   "cell_type": "code",
   "execution_count": 3,
   "metadata": {
    "collapsed": true
   },
   "outputs": [],
   "source": [
    "obj = oracle() #creating the object "
   ]
  },
  {
   "cell_type": "code",
   "execution_count": 4,
   "metadata": {
    "collapsed": true
   },
   "outputs": [],
   "source": [
    "obj.setConnect(username=username,hostname=host,port=port,password=pwd,sid=sid)"
   ]
  },
  {
   "cell_type": "code",
   "execution_count": 5,
   "metadata": {},
   "outputs": [
    {
     "name": "stdout",
     "output_type": "stream",
     "text": [
      "Database connection tested and working for now\n",
      "\n"
     ]
    }
   ],
   "source": [
    "if obj.connect_check :\n",
    "    print(\"Database connection tested and working for now\\n\")\n",
    "else:\n",
    "    print(\"Database cannot be connected \\n\")"
   ]
  },
  {
   "cell_type": "markdown",
   "metadata": {},
   "source": [
    "#### Let us assume we have the following empty table created in the Database \n",
    "\n",
    "<br> \n",
    "\n",
    "**Tablename** : Student\n",
    "\n",
    "1. First_name : String : Varchar \n",
    "2. Last_name : String : Varchar \n",
    "3. Subject_Code : String : Varchar \n",
    "4. Test_1_Score : Number : Numeric \n",
    "5. Test_2_Score : Number : Numeric \n",
    "6. Test_3_Score : Number : Numeric \n",
    "7. CGPA : Float : CGPA "
   ]
  },
  {
   "cell_type": "markdown",
   "metadata": {},
   "source": [
    "|  First_name | Last_name | Subject_Code |Test_1_Score|Test_2_Score| Test_3_Score | CGPA|\n",
    "| ------------- |:-------------:| -----: |-----: |-----: |-----: |-----: |\n",
    "|  |  | |  |  |  |  |"
   ]
  },
  {
   "cell_type": "markdown",
   "metadata": {},
   "source": [
    "<br>\n",
    "\n",
    "-----\n",
    "\n",
    "** Count Operation : **\n",
    "\n",
    "---\n",
    "\n"
   ]
  },
  {
   "cell_type": "code",
   "execution_count": 6,
   "metadata": {},
   "outputs": [
    {
     "name": "stdout",
     "output_type": "stream",
     "text": [
      "\n",
      "        Function to get return the count of rows given the condition and the tablename\n",
      "\n",
      "        Input :\n",
      "        tablename: String : Table name in DB\n",
      "        condtion : String : SQL  where clause condition\n",
      "\n",
      "        Output:\n",
      "        Count : Integer : Count of the rows for the given condition and  tablename\n",
      "        \n"
     ]
    }
   ],
   "source": [
    "print(obj.count.__doc__)"
   ]
  },
  {
   "cell_type": "code",
   "execution_count": 7,
   "metadata": {},
   "outputs": [
    {
     "data": {
      "text/plain": [
       "0"
      ]
     },
     "execution_count": 7,
     "metadata": {},
     "output_type": "execute_result"
    }
   ],
   "source": [
    "obj.count(tablename=\"student\")"
   ]
  },
  {
   "cell_type": "markdown",
   "metadata": {},
   "source": [
    "As there was no data , the table is empty we get the count to be 0. <br>\n",
    "\n",
    "\n",
    "|  First name | Last name | Subject Code |Test_1_Score|Test_2_Score| Test_3_Score | CGPA|\n",
    "| ------------- |:-------------:| -----: |-----: |-----: |-----: |-----: |\n",
    "| Steve | Rogers | IT1011| 34 | 34 | 39 | 9.1 |\n",
    "| Sam | Winchester | IT1004| 32 | 35 | 39 | 9.2 |\n",
    "| Sam | Winchester | IT1005| 34 | 36 | 39 | 9.5 |\n",
    "| Sam | Winchester | IT1006| 36 | 37 | 38 | 9.4 |\n",
    "| Sam | Winchester | IT1007| 38 | 38 | 40 | 9.8 |\n",
    "| Dean | Winchester | IT1004| 22 | 25 | 28 | 8.2 |\n",
    "| Dean | Winchester | IT1006| 26 | 27 | 28 | 8.4 |\n",
    "| Dean | Winchester | IT1007| 28 | 28 | 30 | 8.8 |\n",
    "| Tony | Stark | IT1006| 40 | 40 | 40 | 10.0 |\n",
    "| Tony | Stark | IT1007| 40 | 40 | 40 | 10.0 |\n",
    "\n",
    "\n",
    "-----\n",
    "\n",
    "** Insert Operation : **\n",
    "\n",
    "---\n",
    "\n",
    "1. We have to enter the above records in the database and  populate it.\n",
    "2. There are two operations : Inserting one record and Inserting bulk records at once \n",
    "3. We will insert the record of Stever Rogers which as it has only one record : Insert one operation\n",
    "4. The rest of the records will be inserted in bulk : Insert many operation "
   ]
  },
  {
   "cell_type": "code",
   "execution_count": 43,
   "metadata": {
    "collapsed": true
   },
   "outputs": [],
   "source": [
    "data = [['first_name','last_name','subject_code','test_1_score','test_2_score','test_3_score','cgpa'],\n",
    "        ['Sam','Winchester','IT1004',32,35,39,9.2],\n",
    "        ['Sam','Winchester','IT1006',34,36,39,9.5],\n",
    "        ['Sam','Winchester','IT1006',36,37,38,9.4],\n",
    "        ['Sam','Winchester','IT1007',38,38,34,9.8],\n",
    "        ['Dean','Winchester','IT1004',22,25,28,8.2],\n",
    "        ['Dean','Winchester','IT1006',26,27,28,8.4],\n",
    "        ['Dean','Winchester','IT1007',28,28,30,8.8],\n",
    "        ['Tony','Stark','IT1007',40,40,40,10],\n",
    "        ['Tony','Stark','IT1006',40,40,40,10]\n",
    "]\n",
    "\n",
    "steve_record = ['Steve','Rogers','IT1011',34,34,39,9.1]"
   ]
  },
  {
   "cell_type": "markdown",
   "metadata": {},
   "source": [
    "\n",
    "** Let us look at the docString of the function : **\n"
   ]
  },
  {
   "cell_type": "code",
   "execution_count": 44,
   "metadata": {},
   "outputs": [
    {
     "name": "stdout",
     "output_type": "stream",
     "text": [
      "\n",
      "        Function to insert records in the table given the objects and the tablename\n",
      "\n",
      "        Input :\n",
      "\n",
      "        tablename : String : Table name of the Database\n",
      "\n",
      "        objects : List of Dictionaries or dictionary : Format : {sql table column Name :Value}\n",
      "\n",
      "        Output:\n",
      "\n",
      "        Boolean :  True in case of successfully objects else Raise Value error\n",
      "        \n"
     ]
    }
   ],
   "source": [
    "print(obj.insert.__doc__)"
   ]
  },
  {
   "cell_type": "code",
   "execution_count": 45,
   "metadata": {},
   "outputs": [
    {
     "name": "stdout",
     "output_type": "stream",
     "text": [
      "['first_name', 'last_name', 'subject_code', 'test_1_score', 'test_2_score', 'test_3_score', 'cgpa']\n"
     ]
    }
   ],
   "source": [
    "columns = data[0]\n",
    "print(columns) #iterator of String "
   ]
  },
  {
   "cell_type": "code",
   "execution_count": 46,
   "metadata": {
    "collapsed": true
   },
   "outputs": [],
   "source": [
    "#parsing steve record into dictionary \n",
    "record = {}\n",
    "for col,value in zip(columns,steve_record):\n",
    "    record[col] = value"
   ]
  },
  {
   "cell_type": "code",
   "execution_count": 47,
   "metadata": {},
   "outputs": [
    {
     "data": {
      "text/plain": [
       "{'cgpa': 9.1,\n",
       " 'first_name': 'Steve',\n",
       " 'last_name': 'Rogers',\n",
       " 'subject_code': 'IT1011',\n",
       " 'test_1_score': 34,\n",
       " 'test_2_score': 34,\n",
       " 'test_3_score': 39}"
      ]
     },
     "execution_count": 47,
     "metadata": {},
     "output_type": "execute_result"
    }
   ],
   "source": [
    "record # inserting using dictionary "
   ]
  },
  {
   "cell_type": "code",
   "execution_count": 48,
   "metadata": {},
   "outputs": [
    {
     "data": {
      "text/plain": [
       "True"
      ]
     },
     "execution_count": 48,
     "metadata": {},
     "output_type": "execute_result"
    }
   ],
   "source": [
    "obj.insert(tablename='student',objects=record)"
   ]
  },
  {
   "cell_type": "markdown",
   "metadata": {},
   "source": [
    "<br>\n",
    "** The record has been inserted sucessfully.** \n",
    "\n",
    "1. We will be checking it using the count function. \n",
    "2. We will use the where clause condition arugment in the count function to get the number of records inserted "
   ]
  },
  {
   "cell_type": "code",
   "execution_count": 49,
   "metadata": {},
   "outputs": [
    {
     "data": {
      "text/plain": [
       "1"
      ]
     },
     "execution_count": 49,
     "metadata": {},
     "output_type": "execute_result"
    }
   ],
   "source": [
    "#getting the total number of records in the table \n",
    "obj.count(tablename='student')"
   ]
  },
  {
   "cell_type": "code",
   "execution_count": 50,
   "metadata": {},
   "outputs": [
    {
     "data": {
      "text/plain": [
       "1"
      ]
     },
     "execution_count": 50,
     "metadata": {},
     "output_type": "execute_result"
    }
   ],
   "source": [
    "obj.count(tablename='student',condition=\"first_name = 'Steve' and last_name = 'Rogers'\")"
   ]
  },
  {
   "cell_type": "code",
   "execution_count": 51,
   "metadata": {},
   "outputs": [
    {
     "data": {
      "text/plain": [
       "0"
      ]
     },
     "execution_count": 51,
     "metadata": {},
     "output_type": "execute_result"
    }
   ],
   "source": [
    "# if a wrong condition is given , make Steve as stever : the count must be zero \n",
    "obj.count(tablename='student',condition=\"first_name = 'steve' and last_name = 'Rogers'\")"
   ]
  },
  {
   "cell_type": "markdown",
   "metadata": {},
   "source": [
    "#### Bulk Insert :\n"
   ]
  },
  {
   "cell_type": "code",
   "execution_count": 52,
   "metadata": {
    "collapsed": true
   },
   "outputs": [],
   "source": [
    "#parsing records as list of dictionaries \n",
    "columns = data[0] #getting first row as the column\n",
    "final_records = []\n",
    "for val in data[1:]:\n",
    "    record = {}\n",
    "    for col,value in zip(columns,val):\n",
    "        record[col]= value\n",
    "    final_records.append(record)   "
   ]
  },
  {
   "cell_type": "code",
   "execution_count": 53,
   "metadata": {
    "scrolled": false
   },
   "outputs": [
    {
     "data": {
      "text/plain": [
       "9"
      ]
     },
     "execution_count": 53,
     "metadata": {},
     "output_type": "execute_result"
    }
   ],
   "source": [
    "len(final_records) # list of dictionaries of 9 records "
   ]
  },
  {
   "cell_type": "code",
   "execution_count": 54,
   "metadata": {},
   "outputs": [
    {
     "data": {
      "text/plain": [
       "[{'cgpa': 9.5,\n",
       "  'first_name': 'Sam',\n",
       "  'last_name': 'Winchester',\n",
       "  'subject_code': 'IT1006',\n",
       "  'test_1_score': 34,\n",
       "  'test_2_score': 36,\n",
       "  'test_3_score': 39},\n",
       " {'cgpa': 9.4,\n",
       "  'first_name': 'Sam',\n",
       "  'last_name': 'Winchester',\n",
       "  'subject_code': 'IT1006',\n",
       "  'test_1_score': 36,\n",
       "  'test_2_score': 37,\n",
       "  'test_3_score': 38}]"
      ]
     },
     "execution_count": 54,
     "metadata": {},
     "output_type": "execute_result"
    }
   ],
   "source": [
    "final_records[1:3] #sample view "
   ]
  },
  {
   "cell_type": "markdown",
   "metadata": {},
   "source": [
    "<br>\n"
   ]
  },
  {
   "cell_type": "code",
   "execution_count": 55,
   "metadata": {},
   "outputs": [
    {
     "data": {
      "text/plain": [
       "True"
      ]
     },
     "execution_count": 55,
     "metadata": {},
     "output_type": "execute_result"
    }
   ],
   "source": [
    "# performing bulk insert \n",
    "obj.insert(tablename=\"student\",objects=final_records)"
   ]
  },
  {
   "cell_type": "markdown",
   "metadata": {},
   "source": [
    "** The records have been inserted successfully.** \n",
    "\n",
    "Let's check it by performing a count operation "
   ]
  },
  {
   "cell_type": "code",
   "execution_count": 56,
   "metadata": {},
   "outputs": [
    {
     "name": "stdout",
     "output_type": "stream",
     "text": [
      "10\n"
     ]
    }
   ],
   "source": [
    "print(obj.count(tablename='student'))"
   ]
  },
  {
   "cell_type": "markdown",
   "metadata": {},
   "source": [
    "  "
   ]
  },
  {
   "cell_type": "markdown",
   "metadata": {},
   "source": [
    "\n",
    "\n",
    "-----\n",
    "\n",
    "** Fetch Operation : **\n",
    "\n",
    "---"
   ]
  },
  {
   "cell_type": "code",
   "execution_count": 22,
   "metadata": {},
   "outputs": [
    {
     "name": "stdout",
     "output_type": "stream",
     "text": [
      "\n",
      "        Function to fetch all the values from a given table with a given condition\n",
      "\n",
      "        Input :\n",
      "\n",
      "        columns : iterator of Strings (list or tuple )  : Column names  in the table you want to view\n",
      "        table name: String : Table name in the DB\n",
      "        condition : String : SQL  where clause condition\n",
      "        rows : Integer: Number of rows to be fetched, Default = -1 : Fetch all\n",
      "        return_type : Integer : 1 for Data Frame and 2 for JSON parsed Dictionary object\n",
      "\n",
      "\n",
      "        Output: Data frame or Parsed Json (List of Dictionaries)\n",
      "        \n"
     ]
    }
   ],
   "source": [
    "print(obj.fetchMany.__doc__)"
   ]
  },
  {
   "cell_type": "code",
   "execution_count": 23,
   "metadata": {},
   "outputs": [
    {
     "name": "stdout",
     "output_type": "stream",
     "text": [
      "\n",
      "        Function to return the first row of the table and where the condition satisfies\n",
      "\n",
      "        Input :\n",
      "\n",
      "        columns : iterator of Strings (list or tuple )  : Column names  in the table you want to view\n",
      "        table name: String : Table name in the DB\n",
      "        condition : String : SQL  where clause condition\n",
      "        return_type : Integer : 1 for Data Frame and 2 for JSON parsed Dictionary object\n",
      "\n",
      "        Output : Parsed Json (List of Dictionaries) or DataFrame\n",
      "        \n"
     ]
    }
   ],
   "source": [
    "print(obj.fetchOne.__doc__)"
   ]
  },
  {
   "cell_type": "markdown",
   "metadata": {},
   "source": [
    "<br> \n",
    "<br> \n",
    "\n",
    "** We will do the following manipulations in fetching the data : This will give you a general idea of how to use the SDK for different selection filters ** \n",
    "\n",
    "\n",
    "1. Finding  the students  who  have  enrolled a subject \n",
    "3. Fetching rows whose last name is like a particular a string \n",
    "4. Fetching the list of students who have different students who have cgpa above a given threshold and  given subject \n",
    "5. Fetching the list of subjects a student has enrolled given student first name and last name \n",
    "6. Fetch any one record given the first name of the student \n",
    "7. Fetch the first 3 records given the first name and last name of student \n"
   ]
  },
  {
   "cell_type": "markdown",
   "metadata": {},
   "source": [
    "<br> \n",
    "\n",
    "#### 1. Finding the students who have enrolled a subject. \n",
    "\n",
    "<Br>"
   ]
  },
  {
   "cell_type": "code",
   "execution_count": 57,
   "metadata": {
    "collapsed": true
   },
   "outputs": [],
   "source": [
    "def get_student_names(subject_code):\n",
    "    \n",
    "    where_clause = \"subject_code ='\" + subject_code + \"'\" #processing the query \n",
    "    return obj.fetchMany(columns=(\"first_name\",\"last_name\"),tablename=\"student\",condition=where_clause)\n",
    "    "
   ]
  },
  {
   "cell_type": "code",
   "execution_count": 58,
   "metadata": {},
   "outputs": [
    {
     "data": {
      "text/html": [
       "<div>\n",
       "<style>\n",
       "    .dataframe thead tr:only-child th {\n",
       "        text-align: right;\n",
       "    }\n",
       "\n",
       "    .dataframe thead th {\n",
       "        text-align: left;\n",
       "    }\n",
       "\n",
       "    .dataframe tbody tr th {\n",
       "        vertical-align: top;\n",
       "    }\n",
       "</style>\n",
       "<table border=\"1\" class=\"dataframe\">\n",
       "  <thead>\n",
       "    <tr style=\"text-align: right;\">\n",
       "      <th></th>\n",
       "      <th>first_name</th>\n",
       "      <th>last_name</th>\n",
       "    </tr>\n",
       "  </thead>\n",
       "  <tbody>\n",
       "    <tr>\n",
       "      <th>0</th>\n",
       "      <td>Sam</td>\n",
       "      <td>Winchester</td>\n",
       "    </tr>\n",
       "    <tr>\n",
       "      <th>1</th>\n",
       "      <td>Dean</td>\n",
       "      <td>Winchester</td>\n",
       "    </tr>\n",
       "  </tbody>\n",
       "</table>\n",
       "</div>"
      ],
      "text/plain": [
       "  first_name   last_name\n",
       "0        Sam  Winchester\n",
       "1       Dean  Winchester"
      ]
     },
     "execution_count": 58,
     "metadata": {},
     "output_type": "execute_result"
    }
   ],
   "source": [
    "get_student_names(\"IT1004\")"
   ]
  },
  {
   "cell_type": "code",
   "execution_count": 59,
   "metadata": {},
   "outputs": [
    {
     "data": {
      "text/html": [
       "<div>\n",
       "<style>\n",
       "    .dataframe thead tr:only-child th {\n",
       "        text-align: right;\n",
       "    }\n",
       "\n",
       "    .dataframe thead th {\n",
       "        text-align: left;\n",
       "    }\n",
       "\n",
       "    .dataframe tbody tr th {\n",
       "        vertical-align: top;\n",
       "    }\n",
       "</style>\n",
       "<table border=\"1\" class=\"dataframe\">\n",
       "  <thead>\n",
       "    <tr style=\"text-align: right;\">\n",
       "      <th></th>\n",
       "      <th>first_name</th>\n",
       "      <th>last_name</th>\n",
       "    </tr>\n",
       "  </thead>\n",
       "  <tbody>\n",
       "    <tr>\n",
       "      <th>0</th>\n",
       "      <td>Sam</td>\n",
       "      <td>Winchester</td>\n",
       "    </tr>\n",
       "    <tr>\n",
       "      <th>1</th>\n",
       "      <td>Dean</td>\n",
       "      <td>Winchester</td>\n",
       "    </tr>\n",
       "    <tr>\n",
       "      <th>2</th>\n",
       "      <td>Tony</td>\n",
       "      <td>Stark</td>\n",
       "    </tr>\n",
       "  </tbody>\n",
       "</table>\n",
       "</div>"
      ],
      "text/plain": [
       "  first_name   last_name\n",
       "0        Sam  Winchester\n",
       "1       Dean  Winchester\n",
       "2       Tony       Stark"
      ]
     },
     "execution_count": 59,
     "metadata": {},
     "output_type": "execute_result"
    }
   ],
   "source": [
    "get_student_names(\"IT1007\")"
   ]
  },
  {
   "cell_type": "markdown",
   "metadata": {},
   "source": [
    "<br> \n",
    "\n",
    "####  2 . Fetching rows whose last name is like a particular a string\n",
    "\n",
    "<br>"
   ]
  },
  {
   "cell_type": "code",
   "execution_count": 60,
   "metadata": {
    "collapsed": true
   },
   "outputs": [],
   "source": [
    "def get_student_names_Like(sub_string,column_name):\n",
    "    where_clause = column_name + \" like \" + \"'%\"+sub_string+\"%'\"\n",
    "    return obj.fetchMany(columns=(\"first_name\",\"last_name\",column_name),tablename=\"student\",condition=where_clause)"
   ]
  },
  {
   "cell_type": "code",
   "execution_count": 61,
   "metadata": {},
   "outputs": [
    {
     "data": {
      "text/html": [
       "<div>\n",
       "<style>\n",
       "    .dataframe thead tr:only-child th {\n",
       "        text-align: right;\n",
       "    }\n",
       "\n",
       "    .dataframe thead th {\n",
       "        text-align: left;\n",
       "    }\n",
       "\n",
       "    .dataframe tbody tr th {\n",
       "        vertical-align: top;\n",
       "    }\n",
       "</style>\n",
       "<table border=\"1\" class=\"dataframe\">\n",
       "  <thead>\n",
       "    <tr style=\"text-align: right;\">\n",
       "      <th></th>\n",
       "      <th>first_name</th>\n",
       "      <th>last_name</th>\n",
       "      <th>last_name</th>\n",
       "    </tr>\n",
       "  </thead>\n",
       "  <tbody>\n",
       "    <tr>\n",
       "      <th>0</th>\n",
       "      <td>Steve</td>\n",
       "      <td>Rogers</td>\n",
       "      <td>Rogers</td>\n",
       "    </tr>\n",
       "    <tr>\n",
       "      <th>1</th>\n",
       "      <td>Sam</td>\n",
       "      <td>Winchester</td>\n",
       "      <td>Winchester</td>\n",
       "    </tr>\n",
       "    <tr>\n",
       "      <th>2</th>\n",
       "      <td>Sam</td>\n",
       "      <td>Winchester</td>\n",
       "      <td>Winchester</td>\n",
       "    </tr>\n",
       "    <tr>\n",
       "      <th>3</th>\n",
       "      <td>Sam</td>\n",
       "      <td>Winchester</td>\n",
       "      <td>Winchester</td>\n",
       "    </tr>\n",
       "    <tr>\n",
       "      <th>4</th>\n",
       "      <td>Sam</td>\n",
       "      <td>Winchester</td>\n",
       "      <td>Winchester</td>\n",
       "    </tr>\n",
       "    <tr>\n",
       "      <th>5</th>\n",
       "      <td>Dean</td>\n",
       "      <td>Winchester</td>\n",
       "      <td>Winchester</td>\n",
       "    </tr>\n",
       "    <tr>\n",
       "      <th>6</th>\n",
       "      <td>Dean</td>\n",
       "      <td>Winchester</td>\n",
       "      <td>Winchester</td>\n",
       "    </tr>\n",
       "    <tr>\n",
       "      <th>7</th>\n",
       "      <td>Dean</td>\n",
       "      <td>Winchester</td>\n",
       "      <td>Winchester</td>\n",
       "    </tr>\n",
       "  </tbody>\n",
       "</table>\n",
       "</div>"
      ],
      "text/plain": [
       "  first_name   last_name   last_name\n",
       "0      Steve      Rogers      Rogers\n",
       "1        Sam  Winchester  Winchester\n",
       "2        Sam  Winchester  Winchester\n",
       "3        Sam  Winchester  Winchester\n",
       "4        Sam  Winchester  Winchester\n",
       "5       Dean  Winchester  Winchester\n",
       "6       Dean  Winchester  Winchester\n",
       "7       Dean  Winchester  Winchester"
      ]
     },
     "execution_count": 61,
     "metadata": {},
     "output_type": "execute_result"
    }
   ],
   "source": [
    "get_student_names_Like(\"er\",\"last_name\")"
   ]
  },
  {
   "cell_type": "code",
   "execution_count": 62,
   "metadata": {},
   "outputs": [
    {
     "data": {
      "text/html": [
       "<div>\n",
       "<style>\n",
       "    .dataframe thead tr:only-child th {\n",
       "        text-align: right;\n",
       "    }\n",
       "\n",
       "    .dataframe thead th {\n",
       "        text-align: left;\n",
       "    }\n",
       "\n",
       "    .dataframe tbody tr th {\n",
       "        vertical-align: top;\n",
       "    }\n",
       "</style>\n",
       "<table border=\"1\" class=\"dataframe\">\n",
       "  <thead>\n",
       "    <tr style=\"text-align: right;\">\n",
       "      <th></th>\n",
       "      <th>first_name</th>\n",
       "      <th>last_name</th>\n",
       "      <th>last_name</th>\n",
       "    </tr>\n",
       "  </thead>\n",
       "  <tbody>\n",
       "    <tr>\n",
       "      <th>0</th>\n",
       "      <td>Sam</td>\n",
       "      <td>Winchester</td>\n",
       "      <td>Winchester</td>\n",
       "    </tr>\n",
       "    <tr>\n",
       "      <th>1</th>\n",
       "      <td>Sam</td>\n",
       "      <td>Winchester</td>\n",
       "      <td>Winchester</td>\n",
       "    </tr>\n",
       "    <tr>\n",
       "      <th>2</th>\n",
       "      <td>Sam</td>\n",
       "      <td>Winchester</td>\n",
       "      <td>Winchester</td>\n",
       "    </tr>\n",
       "    <tr>\n",
       "      <th>3</th>\n",
       "      <td>Sam</td>\n",
       "      <td>Winchester</td>\n",
       "      <td>Winchester</td>\n",
       "    </tr>\n",
       "    <tr>\n",
       "      <th>4</th>\n",
       "      <td>Dean</td>\n",
       "      <td>Winchester</td>\n",
       "      <td>Winchester</td>\n",
       "    </tr>\n",
       "    <tr>\n",
       "      <th>5</th>\n",
       "      <td>Dean</td>\n",
       "      <td>Winchester</td>\n",
       "      <td>Winchester</td>\n",
       "    </tr>\n",
       "    <tr>\n",
       "      <th>6</th>\n",
       "      <td>Dean</td>\n",
       "      <td>Winchester</td>\n",
       "      <td>Winchester</td>\n",
       "    </tr>\n",
       "  </tbody>\n",
       "</table>\n",
       "</div>"
      ],
      "text/plain": [
       "  first_name   last_name   last_name\n",
       "0        Sam  Winchester  Winchester\n",
       "1        Sam  Winchester  Winchester\n",
       "2        Sam  Winchester  Winchester\n",
       "3        Sam  Winchester  Winchester\n",
       "4       Dean  Winchester  Winchester\n",
       "5       Dean  Winchester  Winchester\n",
       "6       Dean  Winchester  Winchester"
      ]
     },
     "execution_count": 62,
     "metadata": {},
     "output_type": "execute_result"
    }
   ],
   "source": [
    "get_student_names_Like(\"Winch\",\"last_name\")"
   ]
  },
  {
   "cell_type": "code",
   "execution_count": 63,
   "metadata": {},
   "outputs": [
    {
     "data": {
      "text/html": [
       "<div>\n",
       "<style>\n",
       "    .dataframe thead tr:only-child th {\n",
       "        text-align: right;\n",
       "    }\n",
       "\n",
       "    .dataframe thead th {\n",
       "        text-align: left;\n",
       "    }\n",
       "\n",
       "    .dataframe tbody tr th {\n",
       "        vertical-align: top;\n",
       "    }\n",
       "</style>\n",
       "<table border=\"1\" class=\"dataframe\">\n",
       "  <thead>\n",
       "    <tr style=\"text-align: right;\">\n",
       "      <th></th>\n",
       "      <th>first_name</th>\n",
       "      <th>last_name</th>\n",
       "      <th>First_name</th>\n",
       "    </tr>\n",
       "  </thead>\n",
       "  <tbody>\n",
       "    <tr>\n",
       "      <th>0</th>\n",
       "      <td>Tony</td>\n",
       "      <td>Stark</td>\n",
       "      <td>Tony</td>\n",
       "    </tr>\n",
       "    <tr>\n",
       "      <th>1</th>\n",
       "      <td>Tony</td>\n",
       "      <td>Stark</td>\n",
       "      <td>Tony</td>\n",
       "    </tr>\n",
       "  </tbody>\n",
       "</table>\n",
       "</div>"
      ],
      "text/plain": [
       "  first_name last_name First_name\n",
       "0       Tony     Stark       Tony\n",
       "1       Tony     Stark       Tony"
      ]
     },
     "execution_count": 63,
     "metadata": {},
     "output_type": "execute_result"
    }
   ],
   "source": [
    "get_student_names_Like(\"ny\",\"First_name\")"
   ]
  },
  {
   "cell_type": "code",
   "execution_count": 64,
   "metadata": {},
   "outputs": [
    {
     "data": {
      "text/html": [
       "<div>\n",
       "<style>\n",
       "    .dataframe thead tr:only-child th {\n",
       "        text-align: right;\n",
       "    }\n",
       "\n",
       "    .dataframe thead th {\n",
       "        text-align: left;\n",
       "    }\n",
       "\n",
       "    .dataframe tbody tr th {\n",
       "        vertical-align: top;\n",
       "    }\n",
       "</style>\n",
       "<table border=\"1\" class=\"dataframe\">\n",
       "  <thead>\n",
       "    <tr style=\"text-align: right;\">\n",
       "      <th></th>\n",
       "      <th>first_name</th>\n",
       "      <th>last_name</th>\n",
       "      <th>First_name</th>\n",
       "    </tr>\n",
       "  </thead>\n",
       "  <tbody>\n",
       "  </tbody>\n",
       "</table>\n",
       "</div>"
      ],
      "text/plain": [
       "Empty DataFrame\n",
       "Columns: [first_name, last_name, First_name]\n",
       "Index: []"
      ]
     },
     "execution_count": 64,
     "metadata": {},
     "output_type": "execute_result"
    }
   ],
   "source": [
    "get_student_names_Like(\"star\",\"First_name\") #notice there is no string in the firstname matching with stark "
   ]
  },
  {
   "cell_type": "markdown",
   "metadata": {},
   "source": [
    "<br> \n",
    "\n",
    "#### 3 . Fetching the list of students who have cgpa more than a given cgpa and in given subject\n",
    "\n",
    "<br>"
   ]
  },
  {
   "cell_type": "code",
   "execution_count": 65,
   "metadata": {
    "collapsed": true
   },
   "outputs": [],
   "source": [
    "def get_student(cgpa,subject_code):\n",
    "    where_clause = \"cgpa > \" + str(cgpa) + \" and subject_code = '\" + subject_code + \"'\"\n",
    "    return obj.fetchMany(columns=(\"first_name\",\"last_name\"),tablename=\"student\",condition=where_clause)"
   ]
  },
  {
   "cell_type": "code",
   "execution_count": 66,
   "metadata": {},
   "outputs": [
    {
     "data": {
      "text/html": [
       "<div>\n",
       "<style>\n",
       "    .dataframe thead tr:only-child th {\n",
       "        text-align: right;\n",
       "    }\n",
       "\n",
       "    .dataframe thead th {\n",
       "        text-align: left;\n",
       "    }\n",
       "\n",
       "    .dataframe tbody tr th {\n",
       "        vertical-align: top;\n",
       "    }\n",
       "</style>\n",
       "<table border=\"1\" class=\"dataframe\">\n",
       "  <thead>\n",
       "    <tr style=\"text-align: right;\">\n",
       "      <th></th>\n",
       "      <th>first_name</th>\n",
       "      <th>last_name</th>\n",
       "    </tr>\n",
       "  </thead>\n",
       "  <tbody>\n",
       "    <tr>\n",
       "      <th>0</th>\n",
       "      <td>Sam</td>\n",
       "      <td>Winchester</td>\n",
       "    </tr>\n",
       "    <tr>\n",
       "      <th>1</th>\n",
       "      <td>Dean</td>\n",
       "      <td>Winchester</td>\n",
       "    </tr>\n",
       "    <tr>\n",
       "      <th>2</th>\n",
       "      <td>Tony</td>\n",
       "      <td>Stark</td>\n",
       "    </tr>\n",
       "  </tbody>\n",
       "</table>\n",
       "</div>"
      ],
      "text/plain": [
       "  first_name   last_name\n",
       "0        Sam  Winchester\n",
       "1       Dean  Winchester\n",
       "2       Tony       Stark"
      ]
     },
     "execution_count": 66,
     "metadata": {},
     "output_type": "execute_result"
    }
   ],
   "source": [
    "get_student(8.0,\"IT1007\")"
   ]
  },
  {
   "cell_type": "code",
   "execution_count": 67,
   "metadata": {},
   "outputs": [
    {
     "data": {
      "text/html": [
       "<div>\n",
       "<style>\n",
       "    .dataframe thead tr:only-child th {\n",
       "        text-align: right;\n",
       "    }\n",
       "\n",
       "    .dataframe thead th {\n",
       "        text-align: left;\n",
       "    }\n",
       "\n",
       "    .dataframe tbody tr th {\n",
       "        vertical-align: top;\n",
       "    }\n",
       "</style>\n",
       "<table border=\"1\" class=\"dataframe\">\n",
       "  <thead>\n",
       "    <tr style=\"text-align: right;\">\n",
       "      <th></th>\n",
       "      <th>first_name</th>\n",
       "      <th>last_name</th>\n",
       "    </tr>\n",
       "  </thead>\n",
       "  <tbody>\n",
       "    <tr>\n",
       "      <th>0</th>\n",
       "      <td>Sam</td>\n",
       "      <td>Winchester</td>\n",
       "    </tr>\n",
       "  </tbody>\n",
       "</table>\n",
       "</div>"
      ],
      "text/plain": [
       "  first_name   last_name\n",
       "0        Sam  Winchester"
      ]
     },
     "execution_count": 67,
     "metadata": {},
     "output_type": "execute_result"
    }
   ],
   "source": [
    "get_student(9.0,\"IT1004\")"
   ]
  },
  {
   "cell_type": "markdown",
   "metadata": {},
   "source": [
    "<br> \n",
    "\n",
    "#### 4. Fetching the list of subjects a student has enrolled given student first name and last name\n",
    "\n",
    "<br> "
   ]
  },
  {
   "cell_type": "code",
   "execution_count": 69,
   "metadata": {
    "collapsed": true
   },
   "outputs": [],
   "source": [
    "def get_subjects (first_name,last_name):\n",
    "    where_clause = \"first_name = '\" +first_name+\"' and last_name = '\" + last_name+\"'\"\n",
    "    return obj.fetchMany(columns= [\"subject_code\"] ,tablename=\"student\",condition=where_clause,return_type=2)"
   ]
  },
  {
   "cell_type": "code",
   "execution_count": 70,
   "metadata": {},
   "outputs": [
    {
     "data": {
      "text/plain": [
       "[{'subject_code': 'IT1007'}, {'subject_code': 'IT1006'}]"
      ]
     },
     "execution_count": 70,
     "metadata": {},
     "output_type": "execute_result"
    }
   ],
   "source": [
    "get_subjects(\"Tony\",\"Stark\") #notice the return type = 2 : sends parsed List of Dictionaries "
   ]
  },
  {
   "cell_type": "code",
   "execution_count": 71,
   "metadata": {},
   "outputs": [
    {
     "data": {
      "text/plain": [
       "[{'subject_code': 'IT1004'},\n",
       " {'subject_code': 'IT1006'},\n",
       " {'subject_code': 'IT1006'},\n",
       " {'subject_code': 'IT1007'}]"
      ]
     },
     "execution_count": 71,
     "metadata": {},
     "output_type": "execute_result"
    }
   ],
   "source": [
    "get_subjects(\"Sam\",\"Winchester\")"
   ]
  },
  {
   "cell_type": "code",
   "execution_count": 72,
   "metadata": {},
   "outputs": [
    {
     "data": {
      "text/plain": [
       "[{'subject_code': 'IT1004'},\n",
       " {'subject_code': 'IT1006'},\n",
       " {'subject_code': 'IT1007'}]"
      ]
     },
     "execution_count": 72,
     "metadata": {},
     "output_type": "execute_result"
    }
   ],
   "source": [
    "get_subjects(\"Dean\",\"Winchester\")"
   ]
  },
  {
   "cell_type": "markdown",
   "metadata": {},
   "source": [
    "<br>\n",
    "\n",
    "#### 5. Fetch any one record given the first name of the student\n",
    "\n",
    "<br>"
   ]
  },
  {
   "cell_type": "code",
   "execution_count": 73,
   "metadata": {},
   "outputs": [
    {
     "data": {
      "text/plain": [
       "['first_name',\n",
       " 'last_name',\n",
       " 'subject_code',\n",
       " 'test_1_score',\n",
       " 'test_2_score',\n",
       " 'test_3_score',\n",
       " 'cgpa']"
      ]
     },
     "execution_count": 73,
     "metadata": {},
     "output_type": "execute_result"
    }
   ],
   "source": [
    "columns"
   ]
  },
  {
   "cell_type": "code",
   "execution_count": 74,
   "metadata": {
    "collapsed": true
   },
   "outputs": [],
   "source": [
    "def get_any_one_record(first_name):\n",
    "    where_clause = \" first_name ='\" + first_name + \"'\"\n",
    "    return obj.fetchOne(columns=tuple(\"*\"),tablename=\"student\",condition=where_clause)"
   ]
  },
  {
   "cell_type": "code",
   "execution_count": 75,
   "metadata": {},
   "outputs": [
    {
     "data": {
      "text/html": [
       "<div>\n",
       "<style>\n",
       "    .dataframe thead tr:only-child th {\n",
       "        text-align: right;\n",
       "    }\n",
       "\n",
       "    .dataframe thead th {\n",
       "        text-align: left;\n",
       "    }\n",
       "\n",
       "    .dataframe tbody tr th {\n",
       "        vertical-align: top;\n",
       "    }\n",
       "</style>\n",
       "<table border=\"1\" class=\"dataframe\">\n",
       "  <thead>\n",
       "    <tr style=\"text-align: right;\">\n",
       "      <th></th>\n",
       "      <th>FIRST_NAME</th>\n",
       "      <th>LAST_NAME</th>\n",
       "      <th>SUBJECT_CODE</th>\n",
       "      <th>TEST_1_SCORE</th>\n",
       "      <th>TEST_2_SCORE</th>\n",
       "      <th>TEST_3_SCORE</th>\n",
       "      <th>CGPA</th>\n",
       "    </tr>\n",
       "  </thead>\n",
       "  <tbody>\n",
       "    <tr>\n",
       "      <th>0</th>\n",
       "      <td>Dean</td>\n",
       "      <td>Winchester</td>\n",
       "      <td>IT1004</td>\n",
       "      <td>22</td>\n",
       "      <td>25</td>\n",
       "      <td>28</td>\n",
       "      <td>8.2</td>\n",
       "    </tr>\n",
       "  </tbody>\n",
       "</table>\n",
       "</div>"
      ],
      "text/plain": [
       "  FIRST_NAME   LAST_NAME SUBJECT_CODE  TEST_1_SCORE  TEST_2_SCORE  \\\n",
       "0       Dean  Winchester       IT1004            22            25   \n",
       "\n",
       "   TEST_3_SCORE  CGPA  \n",
       "0            28   8.2  "
      ]
     },
     "execution_count": 75,
     "metadata": {},
     "output_type": "execute_result"
    }
   ],
   "source": [
    "get_any_one_record(\"Dean\")"
   ]
  },
  {
   "cell_type": "code",
   "execution_count": 76,
   "metadata": {},
   "outputs": [
    {
     "data": {
      "text/html": [
       "<div>\n",
       "<style>\n",
       "    .dataframe thead tr:only-child th {\n",
       "        text-align: right;\n",
       "    }\n",
       "\n",
       "    .dataframe thead th {\n",
       "        text-align: left;\n",
       "    }\n",
       "\n",
       "    .dataframe tbody tr th {\n",
       "        vertical-align: top;\n",
       "    }\n",
       "</style>\n",
       "<table border=\"1\" class=\"dataframe\">\n",
       "  <thead>\n",
       "    <tr style=\"text-align: right;\">\n",
       "      <th></th>\n",
       "      <th>FIRST_NAME</th>\n",
       "      <th>LAST_NAME</th>\n",
       "      <th>SUBJECT_CODE</th>\n",
       "      <th>TEST_1_SCORE</th>\n",
       "      <th>TEST_2_SCORE</th>\n",
       "      <th>TEST_3_SCORE</th>\n",
       "      <th>CGPA</th>\n",
       "    </tr>\n",
       "  </thead>\n",
       "  <tbody>\n",
       "    <tr>\n",
       "      <th>0</th>\n",
       "      <td>Steve</td>\n",
       "      <td>Rogers</td>\n",
       "      <td>IT1011</td>\n",
       "      <td>34</td>\n",
       "      <td>34</td>\n",
       "      <td>39</td>\n",
       "      <td>9.1</td>\n",
       "    </tr>\n",
       "  </tbody>\n",
       "</table>\n",
       "</div>"
      ],
      "text/plain": [
       "  FIRST_NAME LAST_NAME SUBJECT_CODE  TEST_1_SCORE  TEST_2_SCORE  TEST_3_SCORE  \\\n",
       "0      Steve    Rogers       IT1011            34            34            39   \n",
       "\n",
       "   CGPA  \n",
       "0   9.1  "
      ]
     },
     "execution_count": 76,
     "metadata": {},
     "output_type": "execute_result"
    }
   ],
   "source": [
    "get_any_one_record(\"Steve\")"
   ]
  },
  {
   "cell_type": "code",
   "execution_count": 77,
   "metadata": {},
   "outputs": [
    {
     "data": {
      "text/html": [
       "<div>\n",
       "<style>\n",
       "    .dataframe thead tr:only-child th {\n",
       "        text-align: right;\n",
       "    }\n",
       "\n",
       "    .dataframe thead th {\n",
       "        text-align: left;\n",
       "    }\n",
       "\n",
       "    .dataframe tbody tr th {\n",
       "        vertical-align: top;\n",
       "    }\n",
       "</style>\n",
       "<table border=\"1\" class=\"dataframe\">\n",
       "  <thead>\n",
       "    <tr style=\"text-align: right;\">\n",
       "      <th></th>\n",
       "      <th>FIRST_NAME</th>\n",
       "      <th>LAST_NAME</th>\n",
       "      <th>SUBJECT_CODE</th>\n",
       "      <th>TEST_1_SCORE</th>\n",
       "      <th>TEST_2_SCORE</th>\n",
       "      <th>TEST_3_SCORE</th>\n",
       "      <th>CGPA</th>\n",
       "    </tr>\n",
       "  </thead>\n",
       "  <tbody>\n",
       "    <tr>\n",
       "      <th>0</th>\n",
       "      <td>Sam</td>\n",
       "      <td>Winchester</td>\n",
       "      <td>IT1004</td>\n",
       "      <td>32</td>\n",
       "      <td>35</td>\n",
       "      <td>39</td>\n",
       "      <td>9.2</td>\n",
       "    </tr>\n",
       "  </tbody>\n",
       "</table>\n",
       "</div>"
      ],
      "text/plain": [
       "  FIRST_NAME   LAST_NAME SUBJECT_CODE  TEST_1_SCORE  TEST_2_SCORE  \\\n",
       "0        Sam  Winchester       IT1004            32            35   \n",
       "\n",
       "   TEST_3_SCORE  CGPA  \n",
       "0            39   9.2  "
      ]
     },
     "execution_count": 77,
     "metadata": {},
     "output_type": "execute_result"
    }
   ],
   "source": [
    "get_any_one_record(\"Sam\")"
   ]
  },
  {
   "cell_type": "code",
   "execution_count": 78,
   "metadata": {},
   "outputs": [
    {
     "data": {
      "text/html": [
       "<div>\n",
       "<style>\n",
       "    .dataframe thead tr:only-child th {\n",
       "        text-align: right;\n",
       "    }\n",
       "\n",
       "    .dataframe thead th {\n",
       "        text-align: left;\n",
       "    }\n",
       "\n",
       "    .dataframe tbody tr th {\n",
       "        vertical-align: top;\n",
       "    }\n",
       "</style>\n",
       "<table border=\"1\" class=\"dataframe\">\n",
       "  <thead>\n",
       "    <tr style=\"text-align: right;\">\n",
       "      <th></th>\n",
       "      <th>FIRST_NAME</th>\n",
       "      <th>LAST_NAME</th>\n",
       "      <th>SUBJECT_CODE</th>\n",
       "      <th>TEST_1_SCORE</th>\n",
       "      <th>TEST_2_SCORE</th>\n",
       "      <th>TEST_3_SCORE</th>\n",
       "      <th>CGPA</th>\n",
       "    </tr>\n",
       "  </thead>\n",
       "  <tbody>\n",
       "    <tr>\n",
       "      <th>0</th>\n",
       "      <td>Tony</td>\n",
       "      <td>Stark</td>\n",
       "      <td>IT1007</td>\n",
       "      <td>40</td>\n",
       "      <td>40</td>\n",
       "      <td>40</td>\n",
       "      <td>10.0</td>\n",
       "    </tr>\n",
       "  </tbody>\n",
       "</table>\n",
       "</div>"
      ],
      "text/plain": [
       "  FIRST_NAME LAST_NAME SUBJECT_CODE  TEST_1_SCORE  TEST_2_SCORE  TEST_3_SCORE  \\\n",
       "0       Tony     Stark       IT1007            40            40            40   \n",
       "\n",
       "   CGPA  \n",
       "0  10.0  "
      ]
     },
     "execution_count": 78,
     "metadata": {},
     "output_type": "execute_result"
    }
   ],
   "source": [
    "get_any_one_record(\"Tony\")"
   ]
  },
  {
   "cell_type": "markdown",
   "metadata": {},
   "source": [
    "<br> \n",
    "<br>\n",
    "\n",
    "#### 6. Fetch first 3 records given the First name and Last name of the student \n",
    "\n",
    "We will use the rows parameter in FetchMany parameter "
   ]
  },
  {
   "cell_type": "code",
   "execution_count": 79,
   "metadata": {
    "collapsed": true
   },
   "outputs": [],
   "source": [
    "def get_records(first_name , last_name):\n",
    "    where_clause = \"first_name = '\" +first_name+\"' and last_name = '\" + last_name+\"'\"\n",
    "    return obj.fetchMany(columns= columns ,tablename=\"student\",condition=where_clause,rows=3)"
   ]
  },
  {
   "cell_type": "code",
   "execution_count": 80,
   "metadata": {},
   "outputs": [
    {
     "data": {
      "text/html": [
       "<div>\n",
       "<style>\n",
       "    .dataframe thead tr:only-child th {\n",
       "        text-align: right;\n",
       "    }\n",
       "\n",
       "    .dataframe thead th {\n",
       "        text-align: left;\n",
       "    }\n",
       "\n",
       "    .dataframe tbody tr th {\n",
       "        vertical-align: top;\n",
       "    }\n",
       "</style>\n",
       "<table border=\"1\" class=\"dataframe\">\n",
       "  <thead>\n",
       "    <tr style=\"text-align: right;\">\n",
       "      <th></th>\n",
       "      <th>first_name</th>\n",
       "      <th>last_name</th>\n",
       "      <th>subject_code</th>\n",
       "      <th>test_1_score</th>\n",
       "      <th>test_2_score</th>\n",
       "      <th>test_3_score</th>\n",
       "      <th>cgpa</th>\n",
       "    </tr>\n",
       "  </thead>\n",
       "  <tbody>\n",
       "    <tr>\n",
       "      <th>0</th>\n",
       "      <td>Sam</td>\n",
       "      <td>Winchester</td>\n",
       "      <td>IT1004</td>\n",
       "      <td>32</td>\n",
       "      <td>35</td>\n",
       "      <td>39</td>\n",
       "      <td>9.2</td>\n",
       "    </tr>\n",
       "    <tr>\n",
       "      <th>1</th>\n",
       "      <td>Sam</td>\n",
       "      <td>Winchester</td>\n",
       "      <td>IT1006</td>\n",
       "      <td>34</td>\n",
       "      <td>36</td>\n",
       "      <td>39</td>\n",
       "      <td>9.5</td>\n",
       "    </tr>\n",
       "    <tr>\n",
       "      <th>2</th>\n",
       "      <td>Sam</td>\n",
       "      <td>Winchester</td>\n",
       "      <td>IT1006</td>\n",
       "      <td>36</td>\n",
       "      <td>37</td>\n",
       "      <td>38</td>\n",
       "      <td>9.4</td>\n",
       "    </tr>\n",
       "  </tbody>\n",
       "</table>\n",
       "</div>"
      ],
      "text/plain": [
       "  first_name   last_name subject_code  test_1_score  test_2_score  \\\n",
       "0        Sam  Winchester       IT1004            32            35   \n",
       "1        Sam  Winchester       IT1006            34            36   \n",
       "2        Sam  Winchester       IT1006            36            37   \n",
       "\n",
       "   test_3_score  cgpa  \n",
       "0            39   9.2  \n",
       "1            39   9.5  \n",
       "2            38   9.4  "
      ]
     },
     "execution_count": 80,
     "metadata": {},
     "output_type": "execute_result"
    }
   ],
   "source": [
    "get_records(\"Sam\",\"Winchester\")"
   ]
  },
  {
   "cell_type": "markdown",
   "metadata": {},
   "source": [
    " "
   ]
  },
  {
   "cell_type": "markdown",
   "metadata": {},
   "source": [
    "---------\n",
    "\n",
    "** Update  Operation ** \n",
    "\n",
    "----\n",
    "\n"
   ]
  },
  {
   "cell_type": "code",
   "execution_count": 81,
   "metadata": {},
   "outputs": [
    {
     "name": "stdout",
     "output_type": "stream",
     "text": [
      "\n",
      "        Input :\n",
      "\n",
      "        table name: String : Tablename of the DB\n",
      "        updations: Object : Dictionary : Format : {column:value}\n",
      "        condition: String : Where condition to filter in the Table\n",
      "\n",
      "        Output:\n",
      "\n",
      "        returns: True if successful updation is done successfully\n",
      "\n",
      "        \n"
     ]
    }
   ],
   "source": [
    "print(obj.update.__doc__)"
   ]
  },
  {
   "cell_type": "markdown",
   "metadata": {},
   "source": [
    "<bR>\n",
    "We will do the following update activities to see the usage of update functions to understand the variants of the SDK. \n",
    "\n",
    "1. Make the Dean as dean in the first name \n",
    "2. Make Sam Winchester as sam winchester : Lower case updation \n",
    "3. Update the of given student by taking the input of provided test scores and a subject code\n",
    "\n",
    "<br>\n",
    "\n",
    "\n",
    "#### 1. Make the Dean as dean in the first name ( Lower Case ) "
   ]
  },
  {
   "cell_type": "code",
   "execution_count": 82,
   "metadata": {},
   "outputs": [
    {
     "data": {
      "text/plain": [
       "True"
      ]
     },
     "execution_count": 82,
     "metadata": {},
     "output_type": "execute_result"
    }
   ],
   "source": [
    "updation = {\"first_name\":\"Dean\"} # {column : value } format\n",
    "obj.update(tablename=\"student\",updations=updation,condition=\" first_name = 'dean'\")"
   ]
  },
  {
   "cell_type": "code",
   "execution_count": 83,
   "metadata": {},
   "outputs": [
    {
     "data": {
      "text/html": [
       "<div>\n",
       "<style>\n",
       "    .dataframe thead tr:only-child th {\n",
       "        text-align: right;\n",
       "    }\n",
       "\n",
       "    .dataframe thead th {\n",
       "        text-align: left;\n",
       "    }\n",
       "\n",
       "    .dataframe tbody tr th {\n",
       "        vertical-align: top;\n",
       "    }\n",
       "</style>\n",
       "<table border=\"1\" class=\"dataframe\">\n",
       "  <thead>\n",
       "    <tr style=\"text-align: right;\">\n",
       "      <th></th>\n",
       "      <th>first_name</th>\n",
       "      <th>last_name</th>\n",
       "      <th>first_name</th>\n",
       "    </tr>\n",
       "  </thead>\n",
       "  <tbody>\n",
       "    <tr>\n",
       "      <th>0</th>\n",
       "      <td>Dean</td>\n",
       "      <td>Winchester</td>\n",
       "      <td>Dean</td>\n",
       "    </tr>\n",
       "    <tr>\n",
       "      <th>1</th>\n",
       "      <td>Dean</td>\n",
       "      <td>Winchester</td>\n",
       "      <td>Dean</td>\n",
       "    </tr>\n",
       "    <tr>\n",
       "      <th>2</th>\n",
       "      <td>Dean</td>\n",
       "      <td>Winchester</td>\n",
       "      <td>Dean</td>\n",
       "    </tr>\n",
       "  </tbody>\n",
       "</table>\n",
       "</div>"
      ],
      "text/plain": [
       "  first_name   last_name first_name\n",
       "0       Dean  Winchester       Dean\n",
       "1       Dean  Winchester       Dean\n",
       "2       Dean  Winchester       Dean"
      ]
     },
     "execution_count": 83,
     "metadata": {},
     "output_type": "execute_result"
    }
   ],
   "source": [
    "get_student_names_Like(\"ea\",\"first_name\")"
   ]
  },
  {
   "cell_type": "markdown",
   "metadata": {},
   "source": [
    "<br>\n",
    "\n",
    "#### 2.  Make Sam Winchester as sam winchester : Lower case updation"
   ]
  },
  {
   "cell_type": "code",
   "execution_count": 84,
   "metadata": {},
   "outputs": [
    {
     "data": {
      "text/plain": [
       "True"
      ]
     },
     "execution_count": 84,
     "metadata": {},
     "output_type": "execute_result"
    }
   ],
   "source": [
    "updation = {\"first_name\":\"Sam\",\"last_name\":\"Winchester\"}\n",
    "obj.update(tablename=\"student\",updations=updation,condition=\" first_name = 'sam'\")"
   ]
  },
  {
   "cell_type": "code",
   "execution_count": 85,
   "metadata": {},
   "outputs": [
    {
     "data": {
      "text/html": [
       "<div>\n",
       "<style>\n",
       "    .dataframe thead tr:only-child th {\n",
       "        text-align: right;\n",
       "    }\n",
       "\n",
       "    .dataframe thead th {\n",
       "        text-align: left;\n",
       "    }\n",
       "\n",
       "    .dataframe tbody tr th {\n",
       "        vertical-align: top;\n",
       "    }\n",
       "</style>\n",
       "<table border=\"1\" class=\"dataframe\">\n",
       "  <thead>\n",
       "    <tr style=\"text-align: right;\">\n",
       "      <th></th>\n",
       "      <th>first_name</th>\n",
       "      <th>last_name</th>\n",
       "      <th>first_name</th>\n",
       "    </tr>\n",
       "  </thead>\n",
       "  <tbody>\n",
       "    <tr>\n",
       "      <th>0</th>\n",
       "      <td>Sam</td>\n",
       "      <td>Winchester</td>\n",
       "      <td>Sam</td>\n",
       "    </tr>\n",
       "    <tr>\n",
       "      <th>1</th>\n",
       "      <td>Sam</td>\n",
       "      <td>Winchester</td>\n",
       "      <td>Sam</td>\n",
       "    </tr>\n",
       "    <tr>\n",
       "      <th>2</th>\n",
       "      <td>Sam</td>\n",
       "      <td>Winchester</td>\n",
       "      <td>Sam</td>\n",
       "    </tr>\n",
       "    <tr>\n",
       "      <th>3</th>\n",
       "      <td>Sam</td>\n",
       "      <td>Winchester</td>\n",
       "      <td>Sam</td>\n",
       "    </tr>\n",
       "  </tbody>\n",
       "</table>\n",
       "</div>"
      ],
      "text/plain": [
       "  first_name   last_name first_name\n",
       "0        Sam  Winchester        Sam\n",
       "1        Sam  Winchester        Sam\n",
       "2        Sam  Winchester        Sam\n",
       "3        Sam  Winchester        Sam"
      ]
     },
     "execution_count": 85,
     "metadata": {},
     "output_type": "execute_result"
    }
   ],
   "source": [
    "get_student_names_Like(\"am\",\"first_name\")"
   ]
  },
  {
   "cell_type": "markdown",
   "metadata": {},
   "source": [
    "<br> \n",
    "\n",
    "#### 3.  Update the of given student by taking the input of provided test scores and a subject code"
   ]
  },
  {
   "cell_type": "code",
   "execution_count": 86,
   "metadata": {
    "collapsed": true
   },
   "outputs": [],
   "source": [
    "def update_record(updation,first_name,last_name,subject_code):\n",
    "    sc = subject_code # just to make the below query line smaller\n",
    "    \n",
    "    where_clause = \"first_name = '\" +first_name+\"' and last_name = '\" + last_name+\"' and subject_code='\" +sc+ \"'\"  \n",
    "    return obj.update(tablename=\"student\",updations=updation,condition=where_clause)"
   ]
  },
  {
   "cell_type": "code",
   "execution_count": 87,
   "metadata": {
    "collapsed": true
   },
   "outputs": [],
   "source": [
    "updation = {\"test_1_score\":35,\"test_3_score\":40,\"cgpa\":9.4} #lets say we want to update the following columns"
   ]
  },
  {
   "cell_type": "code",
   "execution_count": 88,
   "metadata": {},
   "outputs": [
    {
     "data": {
      "text/plain": [
       "True"
      ]
     },
     "execution_count": 88,
     "metadata": {},
     "output_type": "execute_result"
    }
   ],
   "source": [
    "update_record(updation,\"Sam\",\"Winchester\",\"IT1004\")"
   ]
  },
  {
   "cell_type": "code",
   "execution_count": 89,
   "metadata": {},
   "outputs": [
    {
     "data": {
      "text/html": [
       "<div>\n",
       "<style>\n",
       "    .dataframe thead tr:only-child th {\n",
       "        text-align: right;\n",
       "    }\n",
       "\n",
       "    .dataframe thead th {\n",
       "        text-align: left;\n",
       "    }\n",
       "\n",
       "    .dataframe tbody tr th {\n",
       "        vertical-align: top;\n",
       "    }\n",
       "</style>\n",
       "<table border=\"1\" class=\"dataframe\">\n",
       "  <thead>\n",
       "    <tr style=\"text-align: right;\">\n",
       "      <th></th>\n",
       "      <th>first_name</th>\n",
       "      <th>last_name</th>\n",
       "      <th>subject_code</th>\n",
       "      <th>test_1_score</th>\n",
       "      <th>test_2_score</th>\n",
       "      <th>test_3_score</th>\n",
       "      <th>cgpa</th>\n",
       "    </tr>\n",
       "  </thead>\n",
       "  <tbody>\n",
       "    <tr>\n",
       "      <th>0</th>\n",
       "      <td>Sam</td>\n",
       "      <td>Winchester</td>\n",
       "      <td>IT1004</td>\n",
       "      <td>35</td>\n",
       "      <td>35</td>\n",
       "      <td>40</td>\n",
       "      <td>9.4</td>\n",
       "    </tr>\n",
       "  </tbody>\n",
       "</table>\n",
       "</div>"
      ],
      "text/plain": [
       "  first_name   last_name subject_code  test_1_score  test_2_score  \\\n",
       "0        Sam  Winchester       IT1004            35            35   \n",
       "\n",
       "   test_3_score  cgpa  \n",
       "0            40   9.4  "
      ]
     },
     "execution_count": 89,
     "metadata": {},
     "output_type": "execute_result"
    }
   ],
   "source": [
    "obj.fetchOne(columns,\"student\",\"first_name='Sam' and subject_code = 'IT1004'\")"
   ]
  },
  {
   "cell_type": "markdown",
   "metadata": {},
   "source": [
    "<br> \n",
    "\n",
    "** Record Successfully Updated ** "
   ]
  },
  {
   "cell_type": "markdown",
   "metadata": {},
   "source": [
    "<br> \n",
    "<br> \n",
    "\n",
    "\n",
    "\n",
    "----\n",
    "\n",
    "## Well That's All for now Folks : Soon will be adding more wrappers and cool stuff\n",
    "\n",
    "<br> \n",
    "\n",
    "## Stay Tuned  !! \n",
    "\n",
    "----"
   ]
  }
 ],
 "metadata": {
  "kernelspec": {
   "display_name": "Python [conda root]",
   "language": "python",
   "name": "conda-root-py"
  },
  "language_info": {
   "codemirror_mode": {
    "name": "ipython",
    "version": 3
   },
   "file_extension": ".py",
   "mimetype": "text/x-python",
   "name": "python",
   "nbconvert_exporter": "python",
   "pygments_lexer": "ipython3",
   "version": "3.5.4"
  }
 },
 "nbformat": 4,
 "nbformat_minor": 2
}
